{
 "cells": [
  {
   "cell_type": "code",
   "execution_count": 1,
   "metadata": {
    "collapsed": true
   },
   "outputs": [],
   "source": [
    "import numpy as np\n",
    "from scipy.misc import imread\n",
    "import os\n",
    "import sys\n",
    "from skimage import io\n",
    "from matplotlib import image"
   ]
  },
  {
   "cell_type": "code",
   "execution_count": 11,
   "metadata": {
    "collapsed": true
   },
   "outputs": [],
   "source": [
    "[r,g,b]=[.0,.0,.0]\n",
    "NUM=0"
   ]
  },
  {
   "cell_type": "code",
   "execution_count": 14,
   "metadata": {
    "collapsed": false
   },
   "outputs": [],
   "source": [
    "for i in range(1,102):\n",
    "    for file_name in os.listdir(os.path.join('data/Caltech-101',str(i))):\n",
    "        image_path=os.path.join(os.path.join('data/Caltech-101',str(i)),file_name)\n",
    "        img=image.imread(image_path)\n",
    "            \n",
    "        r_mean=np.mean(img[:,:,0])\n",
    "        g_mean=np.mean(img[:,:,1])\n",
    "        b_mean=np.mean(img[:,:,2])\n",
    "        r+=r_mean\n",
    "        g+=g_mean\n",
    "        b+=b_mean\n",
    "        NUM=NUM+1"
   ]
  },
  {
   "cell_type": "code",
   "execution_count": 15,
   "metadata": {
    "collapsed": false
   },
   "outputs": [
    {
     "data": {
      "text/plain": [
       "[139.31245845958793, 134.65135823251228, 127.62962432997173]"
      ]
     },
     "execution_count": 15,
     "metadata": {},
     "output_type": "execute_result"
    }
   ],
   "source": [
    "[r/NUM,g/NUM,b/NUM]"
   ]
  },
  {
   "cell_type": "code",
   "execution_count": null,
   "metadata": {
    "collapsed": true
   },
   "outputs": [],
   "source": []
  }
 ],
 "metadata": {
  "kernelspec": {
   "display_name": "Python 2",
   "language": "python",
   "name": "python2"
  },
  "language_info": {
   "codemirror_mode": {
    "name": "ipython",
    "version": 2
   },
   "file_extension": ".py",
   "mimetype": "text/x-python",
   "name": "python",
   "nbconvert_exporter": "python",
   "pygments_lexer": "ipython2",
   "version": "2.7.13"
  }
 },
 "nbformat": 4,
 "nbformat_minor": 2
}
